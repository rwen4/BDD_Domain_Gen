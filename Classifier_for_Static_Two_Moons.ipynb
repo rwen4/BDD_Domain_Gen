{
 "cells": [
  {
   "cell_type": "code",
   "execution_count": 1,
   "id": "bd435ca6-44f8-48c0-bb38-572e41130c9c",
   "metadata": {},
   "outputs": [
    {
     "name": "stderr",
     "output_type": "stream",
     "text": [
      "/opt/miniconda3/lib/python3.12/site-packages/torch/utils/_pytree.py:185: FutureWarning: optree is installed but the version is too old to support PyTorch Dynamo in C++ pytree. C++ pytree support is disabled. Please consider upgrading optree using `python3 -m pip install --upgrade 'optree>=0.13.0'`.\n",
      "  warnings.warn(\n"
     ]
    }
   ],
   "source": [
    "import numpy as np\n",
    "import pandas as pd\n",
    "import matplotlib.pyplot as plt\n",
    "import pandas as pd\n",
    "\n",
    "import torch\n",
    "from sklearn.model_selection import train_test_split\n",
    "from torch import nn"
   ]
  },
  {
   "cell_type": "code",
   "execution_count": 2,
   "id": "807d3387-7613-460b-86d9-3e681016e484",
   "metadata": {},
   "outputs": [
    {
     "data": {
      "text/html": [
       "<div>\n",
       "<style scoped>\n",
       "    .dataframe tbody tr th:only-of-type {\n",
       "        vertical-align: middle;\n",
       "    }\n",
       "\n",
       "    .dataframe tbody tr th {\n",
       "        vertical-align: top;\n",
       "    }\n",
       "\n",
       "    .dataframe thead th {\n",
       "        text-align: right;\n",
       "    }\n",
       "</style>\n",
       "<table border=\"1\" class=\"dataframe\">\n",
       "  <thead>\n",
       "    <tr style=\"text-align: right;\">\n",
       "      <th></th>\n",
       "      <th>x0</th>\n",
       "      <th>x1</th>\n",
       "      <th>x2</th>\n",
       "      <th>y</th>\n",
       "      <th>env_id</th>\n",
       "      <th>time</th>\n",
       "      <th>source</th>\n",
       "    </tr>\n",
       "  </thead>\n",
       "  <tbody>\n",
       "    <tr>\n",
       "      <th>0</th>\n",
       "      <td>-0.164221</td>\n",
       "      <td>1.194907</td>\n",
       "      <td>-0.314877</td>\n",
       "      <td>0</td>\n",
       "      <td>0</td>\n",
       "      <td>0</td>\n",
       "      <td>env_000_train</td>\n",
       "    </tr>\n",
       "    <tr>\n",
       "      <th>1</th>\n",
       "      <td>-0.368972</td>\n",
       "      <td>-0.847034</td>\n",
       "      <td>0.318045</td>\n",
       "      <td>1</td>\n",
       "      <td>0</td>\n",
       "      <td>0</td>\n",
       "      <td>env_000_train</td>\n",
       "    </tr>\n",
       "    <tr>\n",
       "      <th>2</th>\n",
       "      <td>-0.598016</td>\n",
       "      <td>-0.550728</td>\n",
       "      <td>0.403196</td>\n",
       "      <td>1</td>\n",
       "      <td>0</td>\n",
       "      <td>0</td>\n",
       "      <td>env_000_train</td>\n",
       "    </tr>\n",
       "    <tr>\n",
       "      <th>3</th>\n",
       "      <td>-1.355549</td>\n",
       "      <td>1.267512</td>\n",
       "      <td>-0.317173</td>\n",
       "      <td>0</td>\n",
       "      <td>0</td>\n",
       "      <td>0</td>\n",
       "      <td>env_000_train</td>\n",
       "    </tr>\n",
       "    <tr>\n",
       "      <th>4</th>\n",
       "      <td>1.923942</td>\n",
       "      <td>-0.803257</td>\n",
       "      <td>0.273563</td>\n",
       "      <td>1</td>\n",
       "      <td>0</td>\n",
       "      <td>0</td>\n",
       "      <td>env_000_train</td>\n",
       "    </tr>\n",
       "    <tr>\n",
       "      <th>...</th>\n",
       "      <td>...</td>\n",
       "      <td>...</td>\n",
       "      <td>...</td>\n",
       "      <td>...</td>\n",
       "      <td>...</td>\n",
       "      <td>...</td>\n",
       "      <td>...</td>\n",
       "    </tr>\n",
       "    <tr>\n",
       "      <th>11995</th>\n",
       "      <td>-0.694545</td>\n",
       "      <td>-0.613716</td>\n",
       "      <td>-2.789839</td>\n",
       "      <td>1</td>\n",
       "      <td>5</td>\n",
       "      <td>5</td>\n",
       "      <td>env_005_test</td>\n",
       "    </tr>\n",
       "    <tr>\n",
       "      <th>11996</th>\n",
       "      <td>-1.978567</td>\n",
       "      <td>-0.582871</td>\n",
       "      <td>2.981433</td>\n",
       "      <td>0</td>\n",
       "      <td>5</td>\n",
       "      <td>5</td>\n",
       "      <td>env_005_test</td>\n",
       "    </tr>\n",
       "    <tr>\n",
       "      <th>11997</th>\n",
       "      <td>1.404878</td>\n",
       "      <td>-0.594109</td>\n",
       "      <td>-3.019377</td>\n",
       "      <td>1</td>\n",
       "      <td>5</td>\n",
       "      <td>5</td>\n",
       "      <td>env_005_test</td>\n",
       "    </tr>\n",
       "    <tr>\n",
       "      <th>11998</th>\n",
       "      <td>0.265274</td>\n",
       "      <td>0.500177</td>\n",
       "      <td>3.162122</td>\n",
       "      <td>0</td>\n",
       "      <td>5</td>\n",
       "      <td>5</td>\n",
       "      <td>env_005_test</td>\n",
       "    </tr>\n",
       "    <tr>\n",
       "      <th>11999</th>\n",
       "      <td>-1.724229</td>\n",
       "      <td>0.009561</td>\n",
       "      <td>2.999946</td>\n",
       "      <td>0</td>\n",
       "      <td>5</td>\n",
       "      <td>5</td>\n",
       "      <td>env_005_test</td>\n",
       "    </tr>\n",
       "  </tbody>\n",
       "</table>\n",
       "<p>12000 rows × 7 columns</p>\n",
       "</div>"
      ],
      "text/plain": [
       "             x0        x1        x2  y  env_id  time         source\n",
       "0     -0.164221  1.194907 -0.314877  0       0     0  env_000_train\n",
       "1     -0.368972 -0.847034  0.318045  1       0     0  env_000_train\n",
       "2     -0.598016 -0.550728  0.403196  1       0     0  env_000_train\n",
       "3     -1.355549  1.267512 -0.317173  0       0     0  env_000_train\n",
       "4      1.923942 -0.803257  0.273563  1       0     0  env_000_train\n",
       "...         ...       ...       ... ..     ...   ...            ...\n",
       "11995 -0.694545 -0.613716 -2.789839  1       5     5   env_005_test\n",
       "11996 -1.978567 -0.582871  2.981433  0       5     5   env_005_test\n",
       "11997  1.404878 -0.594109 -3.019377  1       5     5   env_005_test\n",
       "11998  0.265274  0.500177  3.162122  0       5     5   env_005_test\n",
       "11999 -1.724229  0.009561  2.999946  0       5     5   env_005_test\n",
       "\n",
       "[12000 rows x 7 columns]"
      ]
     },
     "execution_count": 2,
     "metadata": {},
     "output_type": "execute_result"
    }
   ],
   "source": [
    "dataset = pd.read_csv(\"static_two_moons_combined.csv\")\n",
    "dataset"
   ]
  },
  {
   "cell_type": "code",
   "execution_count": 3,
   "id": "49b6fd46-7621-4bb7-b0c4-36c228d6158a",
   "metadata": {},
   "outputs": [],
   "source": [
    "x_coordinate = dataset[\"x0\"]\n",
    "y_coordinate = dataset[\"x1\"]\n",
    "classes      = dataset[\"y\"]"
   ]
  },
  {
   "cell_type": "code",
   "execution_count": 4,
   "id": "a0a50788-996b-43aa-a0a2-0fada9685232",
   "metadata": {},
   "outputs": [
    {
     "data": {
      "text/plain": [
       "<matplotlib.collections.PathCollection at 0x161250d40>"
      ]
     },
     "execution_count": 4,
     "metadata": {},
     "output_type": "execute_result"
    },
    {
     "data": {
      "image/png": "[encoded data removed]",
      "text/plain": [
       "<Figure size 640x480 with 1 Axes>"
      ]
     },
     "metadata": {},
     "output_type": "display_data"
    }
   ],
   "source": [
    "plt.scatter(x_coordinate, y_coordinate, c=classes)"
   ]
  },
  {
   "cell_type": "code",
   "execution_count": 5,
   "id": "8f394470-4e8d-4c21-aafe-16f43a15608d",
   "metadata": {},
   "outputs": [],
   "source": [
    "def create_X(x, y): \n",
    "    X = [list(pair) for pair in zip(x, y)]\n",
    "    return X"
   ]
  },
  {
   "cell_type": "code",
   "execution_count": 6,
   "id": "fd9c531f-0cac-4cec-a81a-c88ccb4d256a",
   "metadata": {},
   "outputs": [
    {
     "data": {
      "text/plain": [
       "array([[-0.16422112,  1.19490671],\n",
       "       [-0.36897239, -0.84703422],\n",
       "       [-0.59801584, -0.55072802],\n",
       "       [-1.3555491 ,  1.26751184],\n",
       "       [ 1.92394173, -0.80325705]])"
      ]
     },
     "execution_count": 6,
     "metadata": {},
     "output_type": "execute_result"
    }
   ],
   "source": [
    "# create inputs to the neural network\n",
    "X = np.array(create_X(x_coordinate, y_coordinate))\n",
    "classes = np.array(classes)\n",
    "X[:5]"
   ]
  },
  {
   "cell_type": "code",
   "execution_count": 7,
   "id": "246ffef2-b63e-4a0e-8c53-a59521c1d408",
   "metadata": {},
   "outputs": [
    {
     "data": {
      "text/plain": [
       "((12000, 2), (12000,))"
      ]
     },
     "execution_count": 7,
     "metadata": {},
     "output_type": "execute_result"
    }
   ],
   "source": [
    "X.shape, classes.shape"
   ]
  },
  {
   "cell_type": "code",
   "execution_count": 8,
   "id": "d3bce94e-a373-48ab-8120-92b7ef54a17a",
   "metadata": {},
   "outputs": [
    {
     "data": {
      "text/plain": [
       "tensor([[-0.1642,  1.1949],\n",
       "        [-0.3690, -0.8470],\n",
       "        [-0.5980, -0.5507],\n",
       "        [-1.3555,  1.2675],\n",
       "        [ 1.9239, -0.8033]])"
      ]
     },
     "execution_count": 8,
     "metadata": {},
     "output_type": "execute_result"
    }
   ],
   "source": [
    "# turn np array into tensors\n",
    "X = torch.from_numpy(X).type(torch.float)\n",
    "y = torch.from_numpy(classes).type(torch.float)\n",
    "X[:5]"
   ]
  },
  {
   "cell_type": "code",
   "execution_count": 9,
   "id": "dbd91f2a-be31-463e-ab80-7ef459d4a175",
   "metadata": {},
   "outputs": [
    {
     "data": {
      "text/plain": [
       "(9600, 2400, tensor([0., 0., 0., 1., 1.]))"
      ]
     },
     "execution_count": 9,
     "metadata": {},
     "output_type": "execute_result"
    }
   ],
   "source": [
    "# split data into training and testing sets\n",
    "X_train, X_test, y_train, y_test = train_test_split(X, y, test_size=0.2, random_state=42) # make the random split reproducible\n",
    "len(X_train), len(X_test), y_test[:5]"
   ]
  },
  {
   "cell_type": "code",
   "execution_count": 10,
   "id": "5d6fbfdd-a1b6-4d6a-955e-3737ec21adf9",
   "metadata": {},
   "outputs": [
    {
     "data": {
      "text/plain": [
       "'cpu'"
      ]
     },
     "execution_count": 10,
     "metadata": {},
     "output_type": "execute_result"
    }
   ],
   "source": [
    "device = \"cuda\" if torch.cuda.is_available() else \"cpu\"\n",
    "device"
   ]
  },
  {
   "cell_type": "code",
   "execution_count": 11,
   "id": "319328d4-78e6-43b2-a86d-7fb90e6d3cd1",
   "metadata": {},
   "outputs": [
    {
     "data": {
      "text/plain": [
       "Moon_nn(\n",
       "  (net): Sequential(\n",
       "    (0): Linear(in_features=2, out_features=32, bias=True)\n",
       "    (1): ReLU(inplace=True)\n",
       "    (2): Dropout(p=0.15, inplace=False)\n",
       "    (3): Linear(in_features=32, out_features=64, bias=True)\n",
       "    (4): ReLU(inplace=True)\n",
       "    (5): Dropout(p=0.15, inplace=False)\n",
       "    (6): Linear(in_features=64, out_features=32, bias=True)\n",
       "    (7): ReLU(inplace=True)\n",
       "    (8): Linear(in_features=32, out_features=1, bias=True)\n",
       "  )\n",
       ")"
      ]
     },
     "execution_count": 11,
     "metadata": {},
     "output_type": "execute_result"
    }
   ],
   "source": [
    "class Moon_nn(nn.Module):\n",
    "    def __init__(self):\n",
    "        super().__init__()\n",
    "        self.net = nn.Sequential(\n",
    "            nn.Linear(2, 32),\n",
    "            nn.ReLU(inplace=True),\n",
    "            nn.Dropout(0.15),\n",
    "\n",
    "            nn.Linear(32, 64),\n",
    "            nn.ReLU(inplace=True),\n",
    "            nn.Dropout(0.15),\n",
    "\n",
    "            nn.Linear(64, 32),\n",
    "            nn.ReLU(inplace=True),\n",
    "\n",
    "            nn.Linear(32, 1)   \n",
    "        )\n",
    "\n",
    "    def forward(self, x):\n",
    "        return self.net(x).squeeze(-1)  \n",
    "\n",
    "\n",
    "moon_model = Moon_nn().to(device)\n",
    "moon_model"
   ]
  },
  {
   "cell_type": "code",
   "execution_count": 12,
   "id": "3366f54e-1845-4428-82a3-259f482d242f",
   "metadata": {},
   "outputs": [
    {
     "data": {
      "text/plain": [
       "BCEWithLogitsLoss()"
      ]
     },
     "execution_count": 12,
     "metadata": {},
     "output_type": "execute_result"
    }
   ],
   "source": [
    "# loss function\n",
    "loss_fn = nn.BCEWithLogitsLoss()\n",
    "loss_fn"
   ]
  },
  {
   "cell_type": "code",
   "execution_count": 13,
   "id": "87998d77-09a1-4198-9b43-7b527b164dc6",
   "metadata": {},
   "outputs": [
    {
     "data": {
      "text/plain": [
       "AdamW (\n",
       "Parameter Group 0\n",
       "    amsgrad: False\n",
       "    betas: (0.9, 0.999)\n",
       "    capturable: False\n",
       "    differentiable: False\n",
       "    eps: 1e-08\n",
       "    foreach: None\n",
       "    fused: None\n",
       "    lr: 0.0001\n",
       "    maximize: False\n",
       "    weight_decay: 0.01\n",
       ")"
      ]
     },
     "execution_count": 13,
     "metadata": {},
     "output_type": "execute_result"
    }
   ],
   "source": [
    "# optimizer\n",
    "lr = 1e-4; \n",
    "weight_decay = 1e-2\n",
    "optimizer = torch.optim.AdamW(moon_model.parameters(), lr=lr, weight_decay=weight_decay) \n",
    "optimizer"
   ]
  },
  {
   "cell_type": "code",
   "execution_count": 14,
   "id": "e3998729-e9c7-42a8-a6b1-a0ff14fdcf0c",
   "metadata": {},
   "outputs": [],
   "source": [
    "def accuracy_fn(y_true, y_pred):\n",
    "    correct = torch.eq(y_true, y_pred).sum().item() \n",
    "    acc = (correct / len(y_pred)) * 100 \n",
    "    return acc"
   ]
  },
  {
   "cell_type": "code",
   "execution_count": 15,
   "id": "2e6e5bf0-314a-4b9d-b8a0-4adeaf62d09d",
   "metadata": {},
   "outputs": [],
   "source": [
    "epochs = 2000\n",
    "X_train, y_train = X_train.to(device), y_train.to(device)\n",
    "X_test, y_test = X_test.to(device), y_test.to(device)"
   ]
  },
  {
   "cell_type": "code",
   "execution_count": null,
   "id": "7aef600f-7e2f-4113-a7d2-5d7e9071e44b",
   "metadata": {},
   "outputs": [
    {
     "name": "stdout",
     "output_type": "stream",
     "text": [
      "Epoch: 0 | Loss: 0.70043, Accuracy: 49.66% | Test loss: 0.69750, Test acc: 51.38%\n",
      "Epoch: 50 | Loss: 0.67783, Accuracy: 50.59% | Test loss: 0.67406, Test acc: 51.38%\n",
      "Epoch: 100 | Loss: 0.64290, Accuracy: 77.16% | Test loss: 0.63837, Test acc: 81.71%\n",
      "Epoch: 150 | Loss: 0.58621, Accuracy: 84.92% | Test loss: 0.57762, Test acc: 85.42%\n"
     ]
    }
   ],
   "source": [
    "training_loss = []\n",
    "training_accuracy = []\n",
    "testing_loss = []\n",
    "testing_accuracy = []\n",
    "epoch_list = []\n",
    "for epoch in range(epochs):\n",
    "    moon_model.train()\n",
    "\n",
    "    y_logits = moon_model(X_train).squeeze() # 1D\n",
    "    y_pred = torch.round(torch.sigmoid(y_logits)) # turn logits to probability, round to 0/1\n",
    "    \n",
    "    loss = loss_fn(y_logits, y_train) \n",
    "    acc = accuracy_fn(y_true=y_train, y_pred=y_pred) \n",
    "    \n",
    "    optimizer.zero_grad()\n",
    "    loss.backward()\n",
    "    optimizer.step()\n",
    "\n",
    "    moon_model.eval()\n",
    "    with torch.inference_mode():\n",
    "        # 1. Forward pass\n",
    "        test_logits = moon_model(X_test).squeeze() \n",
    "        test_pred = torch.round(torch.sigmoid(test_logits))\n",
    "        # 2. Caculate loss/accuracy\n",
    "        test_loss = loss_fn(test_logits,\n",
    "                            y_test)\n",
    "        test_acc = accuracy_fn(y_true=y_test,\n",
    "                               y_pred=test_pred)\n",
    "\n",
    "    if epoch % 50 == 0:\n",
    "        epoch_list.append(epoch)\n",
    "        testing_loss.append(test_loss)\n",
    "        testing_accuracy.append(test_acc)\n",
    "        training_loss.append(loss)\n",
    "        training_accuracy.append(acc)\n",
    "        print(f\"Epoch: {epoch} | Loss: {loss:.5f}, Accuracy: {acc:.2f}% | Test loss: {test_loss:.5f}, Test acc: {test_acc:.2f}%\")"
   ]
  },
  {
   "cell_type": "code",
   "execution_count": null,
   "id": "df51f918-6936-46dc-bfa1-6440819dd537",
   "metadata": {},
   "outputs": [],
   "source": [
    "type(training_loss[0]), float(training_loss[0])\n",
    "training_loss = [float(loss) for loss in training_loss]\n",
    "testing_loss = [float(loss) for loss in testing_loss]\n",
    "training_accuracy = [float(loss) for loss in training_accuracy]\n",
    "testing_accuracy = [float(loss) for loss in testing_accuracy]\n"
   ]
  },
  {
   "cell_type": "code",
   "execution_count": null,
   "id": "467bcb27-92a2-42a3-9135-b283f352553a",
   "metadata": {},
   "outputs": [],
   "source": [
    "fig, (ax1, ax2) = plt.subplots(1, 2, figsize=(12, 5))\n",
    "\n",
    "# Plot the loss metrics on the first subplot (ax1)\n",
    "ax1.plot(epoch_list, training_loss, label='Training Loss')\n",
    "ax1.plot(epoch_list, testing_loss, label='Testing Loss')\n",
    "ax1.set_title('Loss')\n",
    "ax1.set_xlabel('Epochs')\n",
    "ax1.set_ylabel('Loss')\n",
    "ax1.legend()\n",
    "ax1.grid(True)\n",
    "\n",
    "ax2.plot(epoch_list, training_accuracy, label='Training Accuracy')\n",
    "ax2.plot(epoch_list, testing_accuracy, label='Testing Accuracy')\n",
    "ax2.set_title('Accuracy')\n",
    "ax2.set_xlabel('Epochs')\n",
    "ax2.set_ylabel('Accuracy')\n",
    "ax2.legend()\n",
    "ax2.grid(True)\n",
    "\n",
    "plt.tight_layout()\n",
    "plt.show()"
   ]
  },
  {
   "cell_type": "code",
   "execution_count": null,
   "id": "c475d2c2-3a34-4267-b370-e51ab83fcd6d",
   "metadata": {},
   "outputs": [],
   "source": [
    "len(epoch_list), len(training_loss), len(training_accuracy), len(training_loss), len(testing_accuracy), len(testing_loss)"
   ]
  },
  {
   "cell_type": "code",
   "execution_count": null,
   "id": "e24c9c8e-c98f-4925-bad0-a667bb406ebb",
   "metadata": {},
   "outputs": [],
   "source": [
    "# this part is GPT generated\n",
    "full_X_np = np.column_stack((dataset['x0'].values, dataset['x1'].values))\n",
    "full_y_np = dataset['y'].values  # ground-truth labels (0/1)\n",
    "\n",
    "full_X = torch.from_numpy(full_X_np).float().to(device)\n",
    "moon_model.eval()\n",
    "with torch.inference_mode():\n",
    "    logits_full = moon_model(full_X).squeeze()            \n",
    "    probs_full = torch.sigmoid(logits_full)               \n",
    "    preds_full = torch.round(probs_full).cpu().numpy().astype(int)  \n",
    "\n",
    "true_full = full_y_np.astype(int)\n",
    "correct_mask = preds_full == true_full\n",
    "wrong_mask   = ~correct_mask\n",
    "\n",
    "plt.figure(figsize=(7,7))\n",
    "plt.scatter(full_X_np[correct_mask, 0], full_X_np[correct_mask, 1],\n",
    "            c='green', s=12, label='Correct', alpha=0.8)\n",
    "plt.scatter(full_X_np[wrong_mask, 0], full_X_np[wrong_mask, 1],\n",
    "            c='red', s=12, label='Wrong', alpha=0.8)\n",
    "plt.title('Model predictions on full dataset\\n(green = correct, red = wrong)')\n",
    "plt.xlabel('x0')\n",
    "plt.ylabel('x1')\n",
    "plt.legend()\n",
    "plt.grid(True)\n",
    "plt.show()\n"
   ]
  },
  {
   "cell_type": "code",
   "execution_count": null,
   "id": "77a38822-f869-4eb1-ba30-22346b53be16",
   "metadata": {},
   "outputs": [],
   "source": []
  }
 ],
 "metadata": {
  "kernelspec": {
   "display_name": "Python 3 (ipykernel)",
   "language": "python",
   "name": "python3"
  },
  "language_info": {
   "codemirror_mode": {
    "name": "ipython",
    "version": 3
   },
   "file_extension": ".py",
   "mimetype": "text/x-python",
   "name": "python",
   "nbconvert_exporter": "python",
   "pygments_lexer": "ipython3",
   "version": "3.12.4"
  }
 },
 "nbformat": 4,
 "nbformat_minor": 5
}
